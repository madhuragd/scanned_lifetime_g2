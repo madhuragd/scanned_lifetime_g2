{
 "cells": [
  {
   "cell_type": "code",
   "execution_count": 1,
   "id": "be97328a-c5ea-4568-b82b-e3fee614b0a3",
   "metadata": {},
   "outputs": [
    {
     "name": "stdout",
     "output_type": "stream",
     "text": [
      "Using matplotlib backend: Qt5Agg\n"
     ]
    },
    {
     "data": {
      "text/plain": [
       "[]"
      ]
     },
     "execution_count": 1,
     "metadata": {},
     "output_type": "execute_result"
    }
   ],
   "source": [
    "import numpy as np\n",
    "import matplotlib.pyplot as plt\n",
    "%matplotlib\n",
    "\n",
    "def l1(y, z):\n",
    "    \"\"\"\n",
    "    Function to generate the eigenvalue $\\lambda_1$ where y = $r_{12}$ and z = $r_{21}$\n",
    "    are the transition rates from level 1 to 2 and vice versa, respectively\n",
    "    \"\"\"\n",
    "    return y + z\n",
    "\n",
    "def l2(args, f: callable):\n",
    "    \"\"\"\n",
    "    Function to generate the eigenvalue $\\lambda_1, \\lambda_2$ where args = $r_{12}, r_{31}, r_{23}, r_{21}$\n",
    "    are the transition rates from various levels (refer to the manuscript: Appendix B).\n",
    "    \"\"\"\n",
    "    y, w, x, z = args # sort arguments\n",
    "    return 1/l1(y, z), 1/(w + x*y/f(y, z)) # Return $\\lambda_1, \\lambda_2$ where f(y, z) is $\\lambda_1$ \n",
    "\n",
    "param = np.linspace(0.1, 1, 200) # Scaling factor for $r_{12}$ i.e. represents scaling factor for the pump power\n",
    "all_entries = np.random.random(4) # Randomly tossing the transition rates, elements of the stochastic matrix\n",
    "# E.g.: [np.array([0.46525175, 0.863117, 0.90181698, 0.69870986])] (used for generating the graph in the manuscript)\n",
    "args = [np.hstack((k*all_entries[0], all_entries[1:])) for k in param] # Args for the function l2\n",
    "\n",
    "plt.figure(figsize=(5,4))\n",
    "\n",
    "a = [l2(i, l1) for i in args] # Calculating the eigenvalues for various pump powers $r_{12}$\n",
    "y1, y2 = zip(*a) # Sorting eigenvalues $\\lambda_1, \\lambda_2$ into variables y1 and y2, respectively\n",
    "\n",
    "# Plotting details\n",
    "plt.plot(param, y1, 'r-', linewidth=3)\n",
    "plt.xlabel(\"Pump power\", fontsize=14)\n",
    "plt.ylabel(\"Excited state lifetime\", color='r', fontsize=14)\n",
    "plt.xticks([])\n",
    "plt.yticks([])\n",
    "\n",
    "ax2 = plt.twinx()\n",
    "ax2.plot(param, y2, 'b-', linewidth=3)\n",
    "ax2.set_ylabel(\"Metastable state lifetime\", color='b', fontsize=14)\n",
    "ax2.set_yticks([])\n"
   ]
  }
 ],
 "metadata": {
  "kernelspec": {
   "display_name": "Python 3 (ipykernel)",
   "language": "python",
   "name": "python3"
  },
  "language_info": {
   "codemirror_mode": {
    "name": "ipython",
    "version": 3
   },
   "file_extension": ".py",
   "mimetype": "text/x-python",
   "name": "python",
   "nbconvert_exporter": "python",
   "pygments_lexer": "ipython3",
   "version": "3.9.12"
  }
 },
 "nbformat": 4,
 "nbformat_minor": 5
}
